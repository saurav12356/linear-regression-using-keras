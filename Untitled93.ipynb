{
 "cells": [
  {
   "cell_type": "code",
   "execution_count": 1,
   "metadata": {},
   "outputs": [
    {
     "name": "stderr",
     "output_type": "stream",
     "text": [
      "Using TensorFlow backend.\n"
     ]
    }
   ],
   "source": [
    "from keras.models import Sequential\n",
    "from keras.layers import Dense\n",
    "from keras.optimizers import Adam,SGD\n",
    "import numpy as np\n",
    "import pandas as pd \n",
    "import matplotlib.pyplot as plt"
   ]
  },
  {
   "cell_type": "code",
   "execution_count": 2,
   "metadata": {},
   "outputs": [
    {
     "data": {
      "text/html": [
       "<div>\n",
       "<style scoped>\n",
       "    .dataframe tbody tr th:only-of-type {\n",
       "        vertical-align: middle;\n",
       "    }\n",
       "\n",
       "    .dataframe tbody tr th {\n",
       "        vertical-align: top;\n",
       "    }\n",
       "\n",
       "    .dataframe thead th {\n",
       "        text-align: right;\n",
       "    }\n",
       "</style>\n",
       "<table border=\"1\" class=\"dataframe\">\n",
       "  <thead>\n",
       "    <tr style=\"text-align: right;\">\n",
       "      <th></th>\n",
       "      <th>SAT</th>\n",
       "      <th>GPA</th>\n",
       "    </tr>\n",
       "  </thead>\n",
       "  <tbody>\n",
       "    <tr>\n",
       "      <th>0</th>\n",
       "      <td>1714</td>\n",
       "      <td>2.40</td>\n",
       "    </tr>\n",
       "    <tr>\n",
       "      <th>1</th>\n",
       "      <td>1664</td>\n",
       "      <td>2.52</td>\n",
       "    </tr>\n",
       "    <tr>\n",
       "      <th>2</th>\n",
       "      <td>1760</td>\n",
       "      <td>2.54</td>\n",
       "    </tr>\n",
       "    <tr>\n",
       "      <th>3</th>\n",
       "      <td>1685</td>\n",
       "      <td>2.74</td>\n",
       "    </tr>\n",
       "    <tr>\n",
       "      <th>4</th>\n",
       "      <td>1693</td>\n",
       "      <td>2.83</td>\n",
       "    </tr>\n",
       "  </tbody>\n",
       "</table>\n",
       "</div>"
      ],
      "text/plain": [
       "    SAT   GPA\n",
       "0  1714  2.40\n",
       "1  1664  2.52\n",
       "2  1760  2.54\n",
       "3  1685  2.74\n",
       "4  1693  2.83"
      ]
     },
     "execution_count": 2,
     "metadata": {},
     "output_type": "execute_result"
    }
   ],
   "source": [
    "df=pd.read_csv(\"sgh.csv\",delimiter=',')\n",
    "df.head(5)"
   ]
  },
  {
   "cell_type": "code",
   "execution_count": 3,
   "metadata": {},
   "outputs": [],
   "source": [
    "X=df[['SAT']].values\n",
    "Y=df[['GPA']].values"
   ]
  },
  {
   "cell_type": "code",
   "execution_count": 4,
   "metadata": {},
   "outputs": [
    {
     "name": "stderr",
     "output_type": "stream",
     "text": [
      "WARNING: Logging before flag parsing goes to stderr.\n",
      "W1113 16:28:15.012802  5464 deprecation_wrapper.py:119] From C:\\Users\\HP\\Anaconda3\\lib\\site-packages\\keras\\backend\\tensorflow_backend.py:74: The name tf.get_default_graph is deprecated. Please use tf.compat.v1.get_default_graph instead.\n",
      "\n",
      "W1113 16:28:15.043893  5464 deprecation_wrapper.py:119] From C:\\Users\\HP\\Anaconda3\\lib\\site-packages\\keras\\backend\\tensorflow_backend.py:517: The name tf.placeholder is deprecated. Please use tf.compat.v1.placeholder instead.\n",
      "\n",
      "W1113 16:28:15.043893  5464 deprecation_wrapper.py:119] From C:\\Users\\HP\\Anaconda3\\lib\\site-packages\\keras\\backend\\tensorflow_backend.py:4138: The name tf.random_uniform is deprecated. Please use tf.random.uniform instead.\n",
      "\n"
     ]
    },
    {
     "name": "stdout",
     "output_type": "stream",
     "text": [
      "_________________________________________________________________\n",
      "Layer (type)                 Output Shape              Param #   \n",
      "=================================================================\n",
      "dense_1 (Dense)              (None, 1)                 2         \n",
      "=================================================================\n",
      "Total params: 2\n",
      "Trainable params: 2\n",
      "Non-trainable params: 0\n",
      "_________________________________________________________________\n"
     ]
    }
   ],
   "source": [
    "model=Sequential()\n",
    "model.add(Dense(1,input_dim=1))\n",
    "model.summary()"
   ]
  },
  {
   "cell_type": "code",
   "execution_count": 5,
   "metadata": {},
   "outputs": [
    {
     "name": "stderr",
     "output_type": "stream",
     "text": [
      "W1113 16:28:15.153241  5464 deprecation_wrapper.py:119] From C:\\Users\\HP\\Anaconda3\\lib\\site-packages\\keras\\optimizers.py:790: The name tf.train.Optimizer is deprecated. Please use tf.compat.v1.train.Optimizer instead.\n",
      "\n",
      "W1113 16:28:15.309480  5464 deprecation_wrapper.py:119] From C:\\Users\\HP\\Anaconda3\\lib\\site-packages\\keras\\backend\\tensorflow_backend.py:986: The name tf.assign_add is deprecated. Please use tf.compat.v1.assign_add instead.\n",
      "\n",
      "W1113 16:28:15.403182  5464 deprecation_wrapper.py:119] From C:\\Users\\HP\\Anaconda3\\lib\\site-packages\\keras\\backend\\tensorflow_backend.py:973: The name tf.assign is deprecated. Please use tf.compat.v1.assign instead.\n",
      "\n"
     ]
    },
    {
     "name": "stdout",
     "output_type": "stream",
     "text": [
      "Epoch 1/80\n",
      "84/84 [==============================] - 0s 2ms/step - loss: 935665.7686\n",
      "Epoch 2/80\n",
      "84/84 [==============================] - 0s 186us/step - loss: 514280.6997\n",
      "Epoch 3/80\n",
      "84/84 [==============================] - 0s 186us/step - loss: 337458.8214\n",
      "Epoch 4/80\n",
      "84/84 [==============================] - 0s 186us/step - loss: 109406.3243\n",
      "Epoch 5/80\n",
      "84/84 [==============================] - 0s 186us/step - loss: 218623.9539\n",
      "Epoch 6/80\n",
      "84/84 [==============================] - 0s 186us/step - loss: 37646.6994\n",
      "Epoch 7/80\n",
      "84/84 [==============================] - 0s 186us/step - loss: 127630.6897\n",
      "Epoch 8/80\n",
      "84/84 [==============================] - 0s 186us/step - loss: 20580.5363\n",
      "Epoch 9/80\n",
      "84/84 [==============================] - 0s 186us/step - loss: 65934.2864\n",
      "Epoch 10/80\n",
      "84/84 [==============================] - 0s 0us/step - loss: 18554.8062\n",
      "Epoch 11/80\n",
      "84/84 [==============================] - 0s 0us/step - loss: 26597.1425\n",
      "Epoch 12/80\n",
      "84/84 [==============================] - 0s 186us/step - loss: 19199.6583\n",
      "Epoch 13/80\n",
      "84/84 [==============================] - 0s 186us/step - loss: 7625.3175\n",
      "Epoch 14/80\n",
      "84/84 [==============================] - 0s 0us/step - loss: 15291.9631\n",
      "Epoch 15/80\n",
      "84/84 [==============================] - 0s 0us/step - loss: 3206.8335\n",
      "Epoch 16/80\n",
      "84/84 [==============================] - 0s 186us/step - loss: 6454.9529\n",
      "Epoch 17/80\n",
      "84/84 [==============================] - 0s 186us/step - loss: 4474.7151\n",
      "Epoch 18/80\n",
      "84/84 [==============================] - 0s 186us/step - loss: 1362.8898\n",
      "Epoch 19/80\n",
      "84/84 [==============================] - 0s 186us/step - loss: 3031.8336\n",
      "Epoch 20/80\n",
      "84/84 [==============================] - 0s 0us/step - loss: 1376.5198\n",
      "Epoch 21/80\n",
      "84/84 [==============================] - 0s 186us/step - loss: 699.7157\n",
      "Epoch 22/80\n",
      "84/84 [==============================] - 0s 186us/step - loss: 1267.6829\n",
      "Epoch 23/80\n",
      "84/84 [==============================] - 0s 186us/step - loss: 579.3689\n",
      "Epoch 24/80\n",
      "84/84 [==============================] - 0s 186us/step - loss: 268.6993\n",
      "Epoch 25/80\n",
      "84/84 [==============================] - 0s 186us/step - loss: 489.3591\n",
      "Epoch 26/80\n",
      "84/84 [==============================] - 0s 186us/step - loss: 289.5116\n",
      "Epoch 27/80\n",
      "84/84 [==============================] - 0s 186us/step - loss: 101.0078\n",
      "Epoch 28/80\n",
      "84/84 [==============================] - 0s 0us/step - loss: 161.8518\n",
      "Epoch 29/80\n",
      "84/84 [==============================] - 0s 0us/step - loss: 146.3062\n",
      "Epoch 30/80\n",
      "84/84 [==============================] - 0s 0us/step - loss: 57.2973\n",
      "Epoch 31/80\n",
      "84/84 [==============================] - 0s 186us/step - loss: 38.3911\n",
      "Epoch 32/80\n",
      "84/84 [==============================] - 0s 186us/step - loss: 55.4078\n",
      "Epoch 33/80\n",
      "84/84 [==============================] - 0s 0us/step - loss: 40.6572\n",
      "Epoch 34/80\n",
      "84/84 [==============================] - 0s 0us/step - loss: 16.9543\n",
      "Epoch 35/80\n",
      "84/84 [==============================] - 0s 0us/step - loss: 12.3739\n",
      "Epoch 36/80\n",
      "84/84 [==============================] - 0s 186us/step - loss: 15.8217\n",
      "Epoch 37/80\n",
      "84/84 [==============================] - 0s 0us/step - loss: 12.8407\n",
      "Epoch 38/80\n",
      "84/84 [==============================] - 0s 186us/step - loss: 6.1288\n",
      "Epoch 39/80\n",
      "84/84 [==============================] - 0s 186us/step - loss: 3.2111\n",
      "Epoch 40/80\n",
      "84/84 [==============================] - 0s 186us/step - loss: 3.8823\n",
      "Epoch 41/80\n",
      "84/84 [==============================] - 0s 186us/step - loss: 3.9672\n",
      "Epoch 42/80\n",
      "84/84 [==============================] - 0s 0us/step - loss: 2.5377\n",
      "Epoch 43/80\n",
      "84/84 [==============================] - 0s 0us/step - loss: 1.3451\n",
      "Epoch 44/80\n",
      "84/84 [==============================] - 0s 186us/step - loss: 0.8121\n",
      "Epoch 45/80\n",
      "84/84 [==============================] - 0s 0us/step - loss: 0.8477\n",
      "Epoch 46/80\n",
      "84/84 [==============================] - 0s 186us/step - loss: 0.8761\n",
      "Epoch 47/80\n",
      "84/84 [==============================] - 0s 186us/step - loss: 0.6425\n",
      "Epoch 48/80\n",
      "84/84 [==============================] - 0s 0us/step - loss: 0.3511\n",
      "Epoch 49/80\n",
      "84/84 [==============================] - 0s 0us/step - loss: 0.1971\n",
      "Epoch 50/80\n",
      "84/84 [==============================] - 0s 186us/step - loss: 0.2141\n",
      "Epoch 51/80\n",
      "84/84 [==============================] - 0s 186us/step - loss: 0.1731\n",
      "Epoch 52/80\n",
      "84/84 [==============================] - 0s 0us/step - loss: 0.1463\n",
      "Epoch 53/80\n",
      "84/84 [==============================] - 0s 186us/step - loss: 0.1541\n",
      "Epoch 54/80\n",
      "84/84 [==============================] - 0s 186us/step - loss: 0.1274\n",
      "Epoch 55/80\n",
      "84/84 [==============================] - 0s 186us/step - loss: 0.0981\n",
      "Epoch 56/80\n",
      "84/84 [==============================] - 0s 0us/step - loss: 0.0764\n",
      "Epoch 57/80\n",
      "84/84 [==============================] - 0s 0us/step - loss: 0.0534\n",
      "Epoch 58/80\n",
      "84/84 [==============================] - 0s 186us/step - loss: 0.0639\n",
      "Epoch 59/80\n",
      "84/84 [==============================] - 0s 186us/step - loss: 0.0568\n",
      "Epoch 60/80\n",
      "84/84 [==============================] - 0s 186us/step - loss: 0.0605\n",
      "Epoch 61/80\n",
      "84/84 [==============================] - ETA: 0s - loss: 0.036 - 0s 0us/step - loss: 0.0526\n",
      "Epoch 62/80\n",
      "84/84 [==============================] - 0s 0us/step - loss: 0.0489\n",
      "Epoch 63/80\n",
      "84/84 [==============================] - 0s 186us/step - loss: 0.0493\n",
      "Epoch 64/80\n",
      "84/84 [==============================] - 0s 186us/step - loss: 0.0530\n",
      "Epoch 65/80\n",
      "84/84 [==============================] - 0s 0us/step - loss: 0.0469\n",
      "Epoch 66/80\n",
      "84/84 [==============================] - 0s 0us/step - loss: 0.0451\n",
      "Epoch 67/80\n",
      "84/84 [==============================] - 0s 186us/step - loss: 0.0453\n",
      "Epoch 68/80\n",
      "84/84 [==============================] - 0s 186us/step - loss: 0.0463\n",
      "Epoch 69/80\n",
      "84/84 [==============================] - 0s 186us/step - loss: 0.0514\n",
      "Epoch 70/80\n",
      "84/84 [==============================] - 0s 0us/step - loss: 0.0448\n",
      "Epoch 71/80\n",
      "84/84 [==============================] - 0s 0us/step - loss: 0.0500\n",
      "Epoch 72/80\n",
      "84/84 [==============================] - 0s 186us/step - loss: 0.0487\n",
      "Epoch 73/80\n",
      "84/84 [==============================] - 0s 0us/step - loss: 0.0457\n",
      "Epoch 74/80\n",
      "84/84 [==============================] - 0s 0us/step - loss: 0.0441\n",
      "Epoch 75/80\n",
      "84/84 [==============================] - 0s 0us/step - loss: 0.0463\n",
      "Epoch 76/80\n",
      "84/84 [==============================] - 0s 186us/step - loss: 0.0489\n",
      "Epoch 77/80\n",
      "84/84 [==============================] - 0s 186us/step - loss: 0.0477\n",
      "Epoch 78/80\n",
      "84/84 [==============================] - 0s 0us/step - loss: 0.0462\n",
      "Epoch 79/80\n",
      "84/84 [==============================] - 0s 0us/step - loss: 0.0468\n",
      "Epoch 80/80\n",
      "84/84 [==============================] - 0s 186us/step - loss: 0.0487\n"
     ]
    },
    {
     "data": {
      "text/plain": [
       "<keras.callbacks.History at 0x1441d625e80>"
      ]
     },
     "execution_count": 5,
     "metadata": {},
     "output_type": "execute_result"
    }
   ],
   "source": [
    "model.compile(Adam(lr=0.8),'mean_squared_error')\n",
    "model.fit(X,Y,epochs=80)"
   ]
  },
  {
   "cell_type": "code",
   "execution_count": 6,
   "metadata": {},
   "outputs": [],
   "source": [
    "Y_predict=model.predict(X)"
   ]
  },
  {
   "cell_type": "code",
   "execution_count": 7,
   "metadata": {},
   "outputs": [
    {
     "data": {
      "image/png": "[encoded data removed]",
      "text/plain": [
       "<Figure size 432x288 with 1 Axes>"
      ]
     },
     "metadata": {
      "needs_background": "light"
     },
     "output_type": "display_data"
    }
   ],
   "source": [
    "df.plot(kind='scatter',x='SAT',y='GPA',title='PLOT')\n",
    "plt.plot(X,Y_predict,color='red',linewidth=3)\n",
    "plt.show()"
   ]
  },
  {
   "cell_type": "code",
   "execution_count": null,
   "metadata": {},
   "outputs": [],
   "source": []
  },
  {
   "cell_type": "code",
   "execution_count": null,
   "metadata": {},
   "outputs": [],
   "source": []
  }
 ],
 "metadata": {
  "kernelspec": {
   "display_name": "Python 3",
   "language": "python",
   "name": "python3"
  },
  "language_info": {
   "codemirror_mode": {
    "name": "ipython",
    "version": 3
   },
   "file_extension": ".py",
   "mimetype": "text/x-python",
   "name": "python",
   "nbconvert_exporter": "python",
   "pygments_lexer": "ipython3",
   "version": "3.7.3"
  }
 },
 "nbformat": 4,
 "nbformat_minor": 2
}
